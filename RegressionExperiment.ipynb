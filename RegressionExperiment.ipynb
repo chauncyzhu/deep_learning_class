{
 "cells": [
  {
   "cell_type": "markdown",
   "metadata": {},
   "source": [
    "Environment:\n",
    "- windows\n",
    "- python 3.6.0"
   ]
  },
  {
   "cell_type": "code",
   "execution_count": 45,
   "metadata": {
    "collapsed": false
   },
   "outputs": [
    {
     "name": "stdout",
     "output_type": "stream",
     "text": [
      "test\n"
     ]
    }
   ],
   "source": [
    "print('test')"
   ]
  },
  {
   "cell_type": "markdown",
   "metadata": {},
   "source": [
    "import model, define global params."
   ]
  },
  {
   "cell_type": "code",
   "execution_count": 46,
   "metadata": {
    "collapsed": true
   },
   "outputs": [],
   "source": [
    "import numpy as np\n",
    "import matplotlib.pyplot as plt\n",
    "from sklearn.datasets import load_svmlight_file\n",
    "from sklearn.model_selection import train_test_split\n",
    "\n",
    "iteration_times = 500   # iteration times\n",
    "train_valid_ratio = 0.8   # determine the ratio of train to validation data"
   ]
  },
  {
   "cell_type": "markdown",
   "metadata": {},
   "source": [
    "**step 1:** load house dataset by load_svmlight_file function, and print data and label shape"
   ]
  },
  {
   "cell_type": "code",
   "execution_count": 47,
   "metadata": {
    "collapsed": false
   },
   "outputs": [
    {
     "name": "stdout",
     "output_type": "stream",
     "text": [
      "data shape: (506, 13) ----label shape: (506,)\n"
     ]
    }
   ],
   "source": [
    "house = load_svmlight_file('E:/Master/personal/实验和作业/机器学习/data/housing_scale.svm')\n",
    "print('data shape:', house[0].shape, '----label shape:', house[1].shape)"
   ]
  },
  {
   "cell_type": "markdown",
   "metadata": {},
   "source": [
    "**step 2:** split all data into train and validation by train_test_split with the train_valid_ratio"
   ]
  },
  {
   "cell_type": "code",
   "execution_count": 48,
   "metadata": {
    "collapsed": false
   },
   "outputs": [],
   "source": [
    "def prepare_data(x, y, train_test_ratio = train_valid_ratio, shuffle = False):\n",
    "    x_train, x_valid, y_train, y_valid = train_test_split(x, y,\n",
    "                            train_size=train_valid_ratio, test_size=1-train_valid_ratio, shuffle=shuffle)   # point out the test size\n",
    "    print('train data shape:', x_train.shape, '---validation data shape:', x_valid.shape)\n",
    "    return x_train, x_valid, y_train, y_valid"
   ]
  },
  {
   "cell_type": "markdown",
   "metadata": {},
   "source": [
    "**step 3:** linear model, initial params with normal distribution, weight matrix and bias term\n",
    "- w * x's shape is equal to label shape."
   ]
  },
  {
   "cell_type": "code",
   "execution_count": 66,
   "metadata": {
    "collapsed": false
   },
   "outputs": [],
   "source": [
    "def norm_weight(nin, scale = 0.01):\n",
    "    \"\"\"\n",
    "    weight initializer, defalt scale 0.01\n",
    "    \"\"\"\n",
    "    w = scale * np.random.randn(nin)\n",
    "    b = scale * np.random.randn()\n",
    "    # print('weight shape:', w.shape)\n",
    "    return w, b"
   ]
  },
  {
   "cell_type": "markdown",
   "metadata": {},
   "source": [
    "**step 4-8:** choose loss function, calculate gradient and update params\n",
    "- using linear model and square loss function.\n",
    "- gradient descent, compute and update the gradient of weight and bias."
   ]
  },
  {
   "cell_type": "code",
   "execution_count": 82,
   "metadata": {
    "collapsed": false
   },
   "outputs": [],
   "source": [
    "def linear_model(x, w, b):\n",
    "    try:\n",
    "        y = x * w + b\n",
    "        return y\n",
    "    except Exception as e:\n",
    "        print(\"x don't match w...\")\n",
    "\n",
    "def loss_function(y, y_pred):\n",
    "    return 0.5 * np.mean(np.square(y - y_pred))   # use square loss function\n",
    "\n",
    "def update_params(x, y, y_pred, w, b, alpha):\n",
    "    # use square loss function, update w and b by its gradient\n",
    "    w = w - alpha*(y_pred - y_train)*x_train/x_train.shape[0]    # alpha is learning rate\n",
    "    b = b - alpha*np.mean(y_pred - y_train)\n",
    "    return w, b   "
   ]
  },
  {
   "cell_type": "markdown",
   "metadata": {},
   "source": [
    "**step 9-1:** run step 4-8 iteratively, beside that, we can adjust some hyper params."
   ]
  },
  {
   "cell_type": "code",
   "execution_count": 108,
   "metadata": {
    "collapsed": false
   },
   "outputs": [
    {
     "name": "stdout",
     "output_type": "stream",
     "text": [
      "train data shape: (404, 13) ---validation data shape: (102, 13)\n",
      "learning rate: 0.36 ---min train loss: 11.3908122706 --min valid loss: 10.2732423383\n",
      "learning rate: 0.1 ---min train loss: 11.5822820653 --min valid loss: 10.2666578344\n",
      "learning rate: 0.01 ---min train loss: 16.6127728337 --min valid loss: 14.2956481648\n"
     ]
    }
   ],
   "source": [
    "alpha = [0.36, 0.1, 0.01]    # different learning rate\n",
    "x_train, x_valid, y_train, y_valid = prepare_data(house[0], house[1])   # prepare train and test data\n",
    "train_total_loss = []    # train loss value\n",
    "valid_total_loss = []    # test loss value\n",
    "\n",
    "# iteration with different learning rate\n",
    "for a in alpha:\n",
    "    train_loss = []\n",
    "    valid_loss = []\n",
    "    w, b = norm_weight(x_train.shape[1])    # initialize weight and bias\n",
    "    for i in range(iteration_times):\n",
    "        # linear model, and train loss\n",
    "        y_pred = linear_model(x_train, w, b)\n",
    "        loss_t = loss_function(y_train, y_pred)    # square loss function of train data\n",
    "        train_loss.append(loss_t)\n",
    "\n",
    "        # linear model, and validation loss\n",
    "        y_valid_pred = linear_model(x_valid, w, b)\n",
    "        loss_v = loss_function(y_valid, y_valid_pred)  # square loss function of validation data\n",
    "        valid_loss.append(loss_v)\n",
    "\n",
    "        #if i % (iteration_times/2) == 0:  # print info\n",
    "            #print('alpha:', a, 'iteration:', i)\n",
    "\n",
    "        w, b = update_params(x_train, y_train, y_pred, w, b, a)\n",
    "    \n",
    "    print('learning rate:', a, \"---min train loss:\", min(train_loss), '--min valid loss:', min(valid_loss))\n",
    "    train_total_loss.append(train_loss)\n",
    "    valid_total_loss.append(valid_loss)"
   ]
  },
  {
   "cell_type": "markdown",
   "metadata": {},
   "source": [
    "**step 9-2:** draw the graph of train and validation loss "
   ]
  },
  {
   "cell_type": "code",
   "execution_count": 106,
   "metadata": {
    "collapsed": false
   },
   "outputs": [
    {
     "data": {
      "image/png": "[encoded data removed]",
      "text/plain": [
       "<matplotlib.figure.Figure at 0x1758dd3b978>"
      ]
     },
     "metadata": {},
     "output_type": "display_data"
    },
    {
     "data": {
      "image/png": "[encoded data removed]",
      "text/plain": [
       "<matplotlib.figure.Figure at 0x17591239fd0>"
      ]
     },
     "metadata": {},
     "output_type": "display_data"
    },
    {
     "data": {
      "image/png": "[encoded data removed]",
      "text/plain": [
       "<matplotlib.figure.Figure at 0x1759121c7b8>"
      ]
     },
     "metadata": {},
     "output_type": "display_data"
    }
   ],
   "source": [
    "# plot params\n",
    "fig_config = {    # train line\n",
    "    'label':['train loss', 'valid loss'],     # validation line\n",
    "    'color': ['r', 'g'],\n",
    "}\n",
    "# train loss plt with different alpha\n",
    "for i in range(len(alpha)):\n",
    "    plt.figure()\n",
    "    plt.title('train and validation loss with learning rate '+ str(alpha[i]))\n",
    "    plt.plot(range(len(train_total_loss[i])), train_total_loss[i], linewidth=2.0, \n",
    "             color=fig_config['color'][0], label=fig_config['label'][0])\n",
    "    plt.plot(range(len(valid_total_loss[i])), valid_total_loss[i], linewidth=2.0, \n",
    "             color=fig_config['color'][1], label=fig_config['label'][1])\n",
    "    plt.xlabel('iteration times')\n",
    "    plt.ylabel('loss value')\n",
    "    plt.legend()\n",
    "    plt.show()"
   ]
  },
  {
   "cell_type": "code",
   "execution_count": null,
   "metadata": {
    "collapsed": true
   },
   "outputs": [],
   "source": []
  }
 ],
 "metadata": {
  "kernelspec": {
   "display_name": "Python 3",
   "language": "python",
   "name": "python3"
  },
  "language_info": {
   "codemirror_mode": {
    "name": "ipython",
    "version": 3
   },
   "file_extension": ".py",
   "mimetype": "text/x-python",
   "name": "python",
   "nbconvert_exporter": "python",
   "pygments_lexer": "ipython3",
   "version": "3.6.0"
  }
 },
 "nbformat": 4,
 "nbformat_minor": 2
}
